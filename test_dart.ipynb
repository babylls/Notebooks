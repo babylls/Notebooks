{
 "cells": [
  {
   "cell_type": "markdown",
   "metadata": {},
   "source": [
    "### This is a Fork of this [Kaggle script](https://www.kaggle.com/yuansun/santander-customer-satisfaction/lb-0-84-for-starters/code)."
   ]
  },
  {
   "cell_type": "code",
   "execution_count": 1,
   "metadata": {
    "collapsed": false
   },
   "outputs": [],
   "source": [
    "import numpy as np\n",
    "import pandas as pd\n",
    "import xgboost as xgb\n",
    "from sklearn.metrics import roc_auc_score\n",
    "%matplotlib inline"
   ]
  },
  {
   "cell_type": "code",
   "execution_count": 2,
   "metadata": {
    "collapsed": false
   },
   "outputs": [
    {
     "name": "stdout",
     "output_type": "stream",
     "text": [
      "(76020, 371)\n"
     ]
    }
   ],
   "source": [
    "train = pd.read_csv('ORG/train.csv')\n",
    "print(train.shape)"
   ]
  },
  {
   "cell_type": "code",
   "execution_count": 3,
   "metadata": {
    "collapsed": true
   },
   "outputs": [],
   "source": [
    "# remove constant columns\n",
    "remove = []\n",
    "for col in train.columns:\n",
    "    if train[col].std() == 0:\n",
    "        remove.append(col)\n",
    "train.drop(remove, axis=1, inplace=True)"
   ]
  },
  {
   "cell_type": "code",
   "execution_count": 4,
   "metadata": {
    "collapsed": false
   },
   "outputs": [],
   "source": [
    "# remove duplicated columns\n",
    "remove = []\n",
    "col    = train.columns\n",
    "for ii in range(len(col)-1):\n",
    "    v = train[col[ii]].values\n",
    "    for jj in range(ii+1, len(col)):\n",
    "        if np.array_equal(v, train[col[jj]].values):\n",
    "            remove.append(col[jj])\n",
    "train.drop(remove, axis=1, inplace=True)"
   ]
  },
  {
   "cell_type": "code",
   "execution_count": 5,
   "metadata": {
    "collapsed": false
   },
   "outputs": [
    {
     "name": "stdout",
     "output_type": "stream",
     "text": [
      "[76020, 76020]\n"
     ]
    }
   ],
   "source": [
    "y = train['TARGET']\n",
    "x = train.drop(['ID','TARGET'], axis=1)\n",
    "print([len(y), len(x)])"
   ]
  },
  {
   "cell_type": "code",
   "execution_count": 6,
   "metadata": {
    "collapsed": true
   },
   "outputs": [],
   "source": [
    "np.random.seed(0)\n",
    "tv = np.random.choice([False, True], len(y), replace=True, p=[0.3, 0.7])"
   ]
  },
  {
   "cell_type": "code",
   "execution_count": 7,
   "metadata": {
    "collapsed": false
   },
   "outputs": [],
   "source": [
    "mt = xgb.DMatrix(x[tv].values, label=y[tv].values,\n",
    "                 feature_names=x.columns.values)\n",
    "mv = xgb.DMatrix(x[np.logical_not(tv)].values,\n",
    "                 feature_names=x.columns.values)"
   ]
  },
  {
   "cell_type": "code",
   "execution_count": 8,
   "metadata": {
    "collapsed": true
   },
   "outputs": [],
   "source": [
    "num_round = 350\n",
    "prm = {'max_depth': 5,\n",
    "       'learning_rate': 0.03,\n",
    "       'subsample': 0.95,\n",
    "       'colsample_bytree': 0.85,\n",
    "       'seed': 4242,\n",
    "       'objective': 'binary:logistic',\n",
    "       'silent': True}"
   ]
  },
  {
   "cell_type": "code",
   "execution_count": 9,
   "metadata": {
    "collapsed": false
   },
   "outputs": [
    {
     "name": "stdout",
     "output_type": "stream",
     "text": [
      "0.840068231475\n"
     ]
    }
   ],
   "source": [
    "prm['booster'] = 'gbtree'\n",
    "xgb_gbtree = xgb.train(prm, mt, num_round)\n",
    "auc_gbtree = roc_auc_score(y[np.logical_not(tv)],\n",
    "                           xgb_gbtree.predict(mv))\n",
    "print(auc_gbtree)"
   ]
  },
  {
   "cell_type": "code",
   "execution_count": 10,
   "metadata": {
    "collapsed": false,
    "scrolled": true
   },
   "outputs": [],
   "source": [
    "prm['booster']        = 'dart'\n",
    "prm['sample_type']    = 'uniform'\n",
    "prm['normalize_type'] = 'forest'\n",
    "prm['rate_drop']      = 0.1\n",
    "rate     = [0.1, 0.3, 0.5, 0.7, 0.9]\n",
    "auc_dart = []\n",
    "for p in rate:\n",
    "    prm['skip_drop'] = p\n",
    "    xgb_dart = xgb.train(prm, mt, num_round)\n",
    "    auc_dart.append(roc_auc_score(y[np.logical_not(tv)],\n",
    "                                  xgb_dart.predict(mv, num_round)))"
   ]
  },
  {
   "cell_type": "code",
   "execution_count": 11,
   "metadata": {
    "collapsed": false
   },
   "outputs": [],
   "source": [
    "df = pd.DataFrame(index=rate)\n",
    "df['gbtree'] = auc_gbtree\n",
    "df['dart']   = auc_dart"
   ]
  },
  {
   "cell_type": "code",
   "execution_count": 12,
   "metadata": {
    "collapsed": false
   },
   "outputs": [
    {
     "data": {
      "text/plain": [
       "<matplotlib.axes._subplots.AxesSubplot at 0x114ed3cf8>"
      ]
     },
     "execution_count": 12,
     "metadata": {},
     "output_type": "execute_result"
    },
    {
     "data": {
      "image/png": "[encoded data removed]",
      "text/plain": [
       "<matplotlib.figure.Figure at 0x114ed36d8>"
      ]
     },
     "metadata": {},
     "output_type": "display_data"
    }
   ],
   "source": [
    "df.plot(style='x-')"
   ]
  },
  {
   "cell_type": "markdown",
   "metadata": {
    "collapsed": true
   },
   "source": [
    "The leaf scores of dropped trees $F_i$ and new trees $\\tilde{F}$\n",
    "$$ \\displaystyle\n",
    "D = \\sum_{i=1}^k F_i \\sim \\tilde{F}\n",
    "$$"
   ]
  },
  {
   "cell_type": "markdown",
   "metadata": {},
   "source": [
    "normalize_type: tree\n",
    "$$\\displaystyle\n",
    "\\alpha \\left( \\sum_{i=1}^k F_i + \\frac{1}{k} F \\right) =\n",
    "\\alpha \\left( \\sum_{i=1}^k F_i + \\frac{\\lambda}{k} \\tilde{F} \\right) \\sim \\alpha \\left( 1 + \\frac{\\lambda}{k} \\right) D = D, \\quad\n",
    "\\alpha = \\frac{k}{k + \\lambda}\n",
    "$$"
   ]
  },
  {
   "cell_type": "markdown",
   "metadata": {},
   "source": [
    "normalize_type: forest\n",
    "$$ \\displaystyle\n",
    "\\alpha \\left( \\sum_{i=1}^k F_i + F \\right)\n",
    "= \\alpha \\left( \\sum_{i=1}^k F_i + \\lambda \\tilde{F} \\right)\n",
    "\\sim \\alpha \\left( 1 +\\lambda \\right) D = D, \\quad\n",
    "\\alpha = \\frac{1}{1 + \\lambda}\n",
    "$$"
   ]
  },
  {
   "cell_type": "code",
   "execution_count": null,
   "metadata": {
    "collapsed": true
   },
   "outputs": [],
   "source": []
  }
 ],
 "metadata": {
  "kernelspec": {
   "display_name": "Python 3",
   "language": "python",
   "name": "python3"
  },
  "language_info": {
   "codemirror_mode": {
    "name": "ipython",
    "version": 3
   },
   "file_extension": ".py",
   "mimetype": "text/x-python",
   "name": "python",
   "nbconvert_exporter": "python",
   "pygments_lexer": "ipython3",
   "version": "3.5.1"
  }
 },
 "nbformat": 4,
 "nbformat_minor": 0
}
